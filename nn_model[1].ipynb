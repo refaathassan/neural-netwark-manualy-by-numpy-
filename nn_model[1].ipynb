{
 "cells": [
  {
   "cell_type": "code",
   "execution_count": 1,
   "metadata": {},
   "outputs": [],
   "source": [
    "import numpy as np \n",
    "from sklearn.model_selection import train_test_split\n",
    "import sklearn\n",
    "\n",
    "data =np.random.rand(100000,2)\n",
    "for x  in range(100000):\n",
    "  for y in range(2):\n",
    "    if data[x,y]>=.5:\n",
    "      data[x,y]=1\n",
    "    else:\n",
    "      data[x,y]=0\n"
   ]
  },
  {
   "cell_type": "code",
   "execution_count": 2,
   "metadata": {},
   "outputs": [
    {
     "data": {
      "text/plain": [
       "array([[0.],\n",
       "       [0.],\n",
       "       [0.],\n",
       "       ...,\n",
       "       [1.],\n",
       "       [0.],\n",
       "       [0.]])"
      ]
     },
     "execution_count": 2,
     "metadata": {},
     "output_type": "execute_result"
    }
   ],
   "source": [
    "# xor gate\n",
    "target = np.random.rand(100000)\n",
    "for x  in range(100000):\n",
    "    if data[x,0]==data[x,1]:\n",
    "      target[x]=0\n",
    "    else:\n",
    "      target[x]=1\n",
    "t= target.reshape(-1,1)\n",
    "t"
   ]
  },
  {
   "cell_type": "code",
   "execution_count": 3,
   "metadata": {},
   "outputs": [
    {
     "name": "stdout",
     "output_type": "stream",
     "text": [
      "64000 train observations with 2 columns\n",
      "64000 train targets\n",
      "16000 val observations with 2 columns\n",
      "16000 val targets\n",
      "20000 test observations with 2 columns\n",
      "20000 test targets\n"
     ]
    }
   ],
   "source": [
    "\n",
    "\n",
    "X = data\n",
    "Y = target\n",
    "\n",
    "X_traian_val, X_test, Y_train_val, Y_test = train_test_split(X, Y, test_size=0.2, random_state=42)\n",
    "X_train, X_val, Y_train, Y_val = train_test_split(X_traian_val,Y_train_val, test_size=0.2, random_state=42)\n",
    "print(\"{0:d} train observations with {1:d} columns\".format(X_train.shape[0], X_train.shape[1]))\n",
    "print(\"{0:d} train targets\".format(len(X_train)))\n",
    "print(\"{0:d} val observations with {1:d} columns\".format(X_val.shape[0], X_val.shape[1]))\n",
    "print(\"{0:d} val targets\".format(len(X_val)))\n",
    "print(\"{0:d} test observations with {1:d} columns\".format(X_test.shape[0], X_test.shape[1]))\n",
    "print(\"{0:d} test targets\".format(len(X_test)))"
   ]
  },
  {
   "cell_type": "code",
   "execution_count": 12,
   "metadata": {},
   "outputs": [],
   "source": [
    "\n",
    "\n",
    "\n",
    "class NeuralNetwork(object):\n",
    "    def __init__(self, input_nodes, hidden_nodes, output_nodes, learning_rate):\n",
    "        # Set number of nodes in input, hidden and output layers.\n",
    "        self.input_nodes = input_nodes\n",
    "        self.hidden_nodes = hidden_nodes\n",
    "        self.output_nodes = output_nodes\n",
    "\n",
    "        # Initialize weights\n",
    "        self.weights_input_to_hidden = np.random.normal(0.0, self.input_nodes**-0.5, \n",
    "                                       (self.input_nodes, self.hidden_nodes))\n",
    "\n",
    "        self.weights_hidden_to_output = np.random.normal(0.0, self.hidden_nodes**-0.5, \n",
    "                                       (self.hidden_nodes, self.output_nodes))\n",
    "        self.lr = learning_rate\n",
    "        \n",
    "        \n",
    "        def sigmoid(x):\n",
    "            return (1/(1+np.exp(-x))) # Replace 0 with your sigmoid calculation here\n",
    "        self.activation_function = sigmoid\n",
    "                    \n",
    "\n",
    "    def train(self, X_train, Y_train):\n",
    "        ''' Train the network on batch of features and targets. \n",
    "        \n",
    "            Arguments\n",
    "            ---------\n",
    "            \n",
    "            features: 2D array, each row is one data record, each column is a feature\n",
    "            targets: 1D array of target values\n",
    "        \n",
    "        '''\n",
    "        n_records = X_train.shape[0]\n",
    "        delta_weights_i_h = np.zeros(self.weights_input_to_hidden.shape)\n",
    "        delta_weights_h_o = np.zeros(self.weights_hidden_to_output.shape)\n",
    "        for X, y in zip(X_train, Y_train):\n",
    "            \n",
    "            final_outputs, hidden_outputs = self.forward_pass_train(X)  # Implement the forward pass function below\n",
    "            # Implement the backproagation function below\n",
    "            delta_weights_i_h, delta_weights_h_o = self.backpropagation(final_outputs, hidden_outputs, X, y, \n",
    "                                                                        delta_weights_i_h, delta_weights_h_o)\n",
    "        self.update_weights(delta_weights_i_h, delta_weights_h_o, n_records)\n",
    "\n",
    "\n",
    "    def forward_pass_train(self, X):\n",
    "        ''' Implement forward pass here \n",
    "         \n",
    "            Arguments\n",
    "            ---------\n",
    "            X: features batch\n",
    "        '''\n",
    "        #### Implement the forward pass here ####\n",
    "        ### Forward pass ###\n",
    "        # TODO: Hidden layer - Replace these values with your calculations.\n",
    "        hidden_inputs = np.dot(X, self.weights_input_to_hidden) # signals into hidden layer\n",
    "        hidden_outputs = self.activation_function(hidden_inputs) # signals from hidden layer\n",
    "\n",
    "        # TODO: Output layer - Replace these values with your calculations.\n",
    "        final_inputs = np.dot(hidden_outputs, self.weights_hidden_to_output) # signals into final output layer\n",
    "        final_outputs = final_inputs  # signals from final output layer\n",
    "        \n",
    "        return final_outputs, hidden_outputs\n",
    "\n",
    "    def backpropagation(self, final_outputs, hidden_outputs, X, y, delta_weights_i_h, delta_weights_h_o):\n",
    "        ''' Implement backpropagation\n",
    "         \n",
    "            Arguments\n",
    "            ---------\n",
    "            final_outputs: output from forward pass\n",
    "            y: target (i.e. label) batch\n",
    "            delta_weights_i_h: change in weights from input to hidden layers\n",
    "            delta_weights_h_o: change in weights from hidden to output layers\n",
    "        '''\n",
    "        #### Implement the backward pass here ####\n",
    "        ### Backward pass ###\n",
    "\n",
    "        error = y - final_outputs # Output layer error is the difference between desired target and actual output.\n",
    "        \n",
    "        #  Calculate the hidden layer's contribution to the error\n",
    "        hidden_error = np.dot(error, self.weights_hidden_to_output.T)\n",
    "        \n",
    "        # TODO: Backpropagated error terms - Replace these values with your calculations.\n",
    "        output_error_term = error\n",
    "        \n",
    "        hidden_error_term = hidden_error * hidden_outputs * (1 - hidden_outputs)\n",
    "        \n",
    "        # Weight step (input to hidden)\n",
    "        delta_weights_i_h += hidden_error_term * X[:, None]\n",
    "        # Weight step (hidden to output)\n",
    "        delta_weights_h_o += output_error_term * hidden_outputs[:, None]\n",
    "\n",
    "        return delta_weights_i_h, delta_weights_h_o\n",
    "\n",
    "    def update_weights(self, delta_weights_i_h, delta_weights_h_o, n_records):\n",
    "        ''' Update weights on gradient descent step\n",
    "         \n",
    "            Arguments\n",
    "            ---------\n",
    "            delta_weights_i_h: change in weights from input to hidden layers\n",
    "            delta_weights_h_o: change in weights from hidden to output layers\n",
    "            n_records: number of records\n",
    "        '''\n",
    "        self.weights_hidden_to_output += self.lr * delta_weights_h_o / n_records # update hidden-to-output weights with gradient descent step\n",
    "        self.weights_input_to_hidden += self.lr * delta_weights_i_h / n_records # update input-to-hidden weights with gradient descent step\n",
    "\n",
    "    def run(self, features):\n",
    "        ''' Run a forward pass through the network with input features \n",
    "        \n",
    "            Arguments\n",
    "            ---------\n",
    "            features: 1D array of feature values\n",
    "        '''\n",
    "        \n",
    "        #### Implement the forward pass here ####\n",
    "        #  Hidden layer - replace these values with the appropriate calculations.\n",
    "        hidden_inputs = np.dot(features, self.weights_input_to_hidden) # signals into hidden layer\n",
    "        hidden_outputs = self.activation_function(hidden_inputs) # signals from hidden layer\n",
    "        \n",
    "        # Output layer - Replace these values with the appropriate calculations.\n",
    "        final_inputs = np.dot(hidden_outputs, self.weights_hidden_to_output) # signals into final output layer\n",
    "        final_outputs = final_inputs # signals from final output layer \n",
    "        \n",
    "        return final_outputs\n",
    "\n",
    "iterations =10\n",
    "learning_rate = 0.05\n",
    "hidden_nodes = 13\n",
    "output_nodes = 1\n",
    "N_i=2"
   ]
  },
  {
   "cell_type": "code",
   "execution_count": 13,
   "metadata": {},
   "outputs": [],
   "source": [
    "def MSE(y, Y):\n",
    "    return np.mean((y-Y)**2)"
   ]
  },
  {
   "cell_type": "code",
   "execution_count": 14,
   "metadata": {},
   "outputs": [],
   "source": [
    "network = NeuralNetwork(N_i, hidden_nodes, output_nodes, learning_rate)"
   ]
  },
  {
   "cell_type": "code",
   "execution_count": 15,
   "metadata": {},
   "outputs": [
    {
     "name": "stdout",
     "output_type": "stream",
     "text": [
      "the train error to iteration= 0.6786966483836658\n",
      " the val error to iteration= 0.6906909682351379\n",
      "the train error to iteration= 0.5544807689517647\n",
      " the val error to iteration= 0.5645804938694143\n",
      "the train error to iteration= 0.4672340203647184\n",
      " the val error to iteration= 0.47575162001642796\n",
      "the train error to iteration= 0.4059300450721553\n",
      " the val error to iteration= 0.4131254229923907\n",
      "the train error to iteration= 0.36283723343153385\n",
      " the val error to iteration= 0.36892691568597547\n",
      "the train error to iteration= 0.33253068620762427\n",
      " the val error to iteration= 0.3376952796130575\n",
      "the train error to iteration= 0.31120249697163066\n",
      " the val error to iteration= 0.31559278872755175\n",
      "the train error to iteration= 0.2961791658766838\n",
      " the val error to iteration= 0.2999211395838495\n",
      "the train error to iteration= 0.28558342822808674\n",
      " the val error to iteration= 0.2887824055755775\n",
      "the train error to iteration= 0.2780970518057975\n",
      " the val error to iteration= 0.28084112277739504\n"
     ]
    }
   ],
   "source": [
    "losses = {'train':[], 'val':[]}\n",
    "for ii in range(iterations):\n",
    "    # Go through a random batch of 128 records from the training data set\n",
    "\n",
    "                             \n",
    "    network.train(X_train, Y_train)\n",
    "    \n",
    "    # Printing out the training progress\n",
    "    train_loss = MSE(network.run(X_train).T, Y_train)\n",
    "    val_loss  = MSE(network.run( X_val).T,  Y_val)\n",
    "    \n",
    "    #to plote it \n",
    "    losses['train'].append(train_loss)\n",
    "    losses['val'].append(val_loss)\n",
    "    print(\"the train error to iteration= \" + str(train_loss) + \"\\n the val error to iteration= \" +str(val_loss))"
   ]
  },
  {
   "cell_type": "code",
   "execution_count": 16,
   "metadata": {},
   "outputs": [
    {
     "name": "stdout",
     "output_type": "stream",
     "text": [
      "the test error to iteration= 0.2780970518057975\n"
     ]
    }
   ],
   "source": [
    "#test\n",
    "test_loss  = MSE(network.run( X_test).T,  Y_test)\n",
    "print(\"the test error to iteration= \" + str(train_loss))"
   ]
  },
  {
   "cell_type": "code",
   "execution_count": 17,
   "metadata": {},
   "outputs": [
    {
     "data": {
      "image/png": "[encoded data removed]",
      "text/plain": [
       "<Figure size 432x288 with 1 Axes>"
      ]
     },
     "metadata": {
      "needs_background": "light"
     },
     "output_type": "display_data"
    }
   ],
   "source": [
    "import matplotlib.pyplot as plt\n",
    "plt.plot(losses['train'], label='Training loss')\n",
    "plt.plot(losses['val'], label='val loss')\n",
    "plt.legend()\n",
    "_ = plt.ylim()"
   ]
  },
  {
   "cell_type": "code",
   "execution_count": null,
   "metadata": {},
   "outputs": [],
   "source": []
  },
  {
   "cell_type": "code",
   "execution_count": null,
   "metadata": {},
   "outputs": [],
   "source": []
  }
 ],
 "metadata": {
  "kernelspec": {
   "display_name": "Python 3",
   "language": "python",
   "name": "python3"
  },
  "language_info": {
   "codemirror_mode": {
    "name": "ipython",
    "version": 3
   },
   "file_extension": ".py",
   "mimetype": "text/x-python",
   "name": "python",
   "nbconvert_exporter": "python",
   "pygments_lexer": "ipython3",
   "version": "3.8.3"
  }
 },
 "nbformat": 4,
 "nbformat_minor": 2
}
